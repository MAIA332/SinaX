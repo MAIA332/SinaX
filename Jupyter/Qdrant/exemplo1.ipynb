{
 "cells": [
  {
   "cell_type": "code",
   "execution_count": 1,
   "metadata": {},
   "outputs": [],
   "source": [
    "from qdrant_client import QdrantClient\n",
    "from qdrant_client.models import Filter, FieldCondition, MatchValue\n",
    "from qdrant_client.models import PointStruct\n",
    "from qdrant_client.models import Distance, VectorParams\n",
    "from pprint import pprint\n",
    "from dotenv import load_dotenv,find_dotenv\n",
    "import os\n"
   ]
  },
  {
   "cell_type": "code",
   "execution_count": 2,
   "metadata": {},
   "outputs": [],
   "source": [
    "from langchain.vectorstores import Qdrant\n",
    "from langchain.embeddings.openai import OpenAIEmbeddings\n",
    "from langchain.text_splitter import CharacterTextSplitter\n",
    "from langchain.chains import RetrievalQA\n",
    "from langchain.llms import OpenAI\n",
    "from langchain.embeddings import SentenceTransformerEmbeddings"
   ]
  },
  {
   "cell_type": "code",
   "execution_count": 3,
   "metadata": {},
   "outputs": [
    {
     "name": "stderr",
     "output_type": "stream",
     "text": [
      "d:\\Git\\SinaX\\execution_ambient\\Lib\\site-packages\\tqdm\\auto.py:21: TqdmWarning: IProgress not found. Please update jupyter and ipywidgets. See https://ipywidgets.readthedocs.io/en/stable/user_install.html\n",
      "  from .autonotebook import tqdm as notebook_tqdm\n"
     ]
    }
   ],
   "source": [
    "from sentence_transformers import SentenceTransformer\n",
    "import uuid\n",
    "from groq import Groq"
   ]
  },
  {
   "cell_type": "code",
   "execution_count": 4,
   "metadata": {},
   "outputs": [
    {
     "data": {
      "text/plain": [
       "True"
      ]
     },
     "execution_count": 4,
     "metadata": {},
     "output_type": "execute_result"
    }
   ],
   "source": [
    "load_dotenv()"
   ]
  },
  {
   "cell_type": "code",
   "execution_count": 96,
   "metadata": {},
   "outputs": [
    {
     "data": {
      "text/plain": [
       "''"
      ]
     },
     "execution_count": 96,
     "metadata": {},
     "output_type": "execute_result"
    }
   ],
   "source": [
    "os.getenv(\"REDIS_PASSWORD\")"
   ]
  },
  {
   "cell_type": "code",
   "execution_count": 5,
   "metadata": {},
   "outputs": [
    {
     "data": {
      "text/plain": [
       "'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'"
      ]
     },
     "execution_count": 5,
     "metadata": {},
     "output_type": "execute_result"
    }
   ],
   "source": [
    "os.getenv(\"GROQ_API_KEY\")"
   ]
  },
  {
   "cell_type": "code",
   "execution_count": 88,
   "metadata": {},
   "outputs": [
    {
     "data": {
      "text/plain": [
       "True"
      ]
     },
     "execution_count": 88,
     "metadata": {},
     "output_type": "execute_result"
    }
   ],
   "source": [
    "load_dotenv(find_dotenv())  "
   ]
  },
  {
   "cell_type": "code",
   "execution_count": 6,
   "metadata": {},
   "outputs": [
    {
     "data": {
      "text/plain": [
       "'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'"
      ]
     },
     "execution_count": 6,
     "metadata": {},
     "output_type": "execute_result"
    }
   ],
   "source": [
    "os.environ.get(\"GROQ_API_KEY\")"
   ]
  },
  {
   "cell_type": "code",
   "execution_count": 5,
   "metadata": {},
   "outputs": [],
   "source": [
    "class PyGroq:\n",
    "    def __init__(self,temperature=1,max_tokens=1024,top_p=1,stream=False,stop=None,seed=10,model=\"llama3-70b-8192\") -> None:\n",
    "        load_dotenv(find_dotenv())  \n",
    "        self.KEY =  os.environ.get(\"GROQ_API_KEY\")\n",
    "\n",
    "        self.client = Groq(\n",
    "            api_key=self.KEY,\n",
    "        )\n",
    "\n",
    "        self.instance_data = {\n",
    "            \"id\":uuid.uuid4(),\n",
    "            \"workspace\":[\n",
    "               \n",
    "            ],\n",
    "\n",
    "            \"hiper_params\":{\n",
    "                \"temperature\":temperature,\n",
    "                \"max_tokens\":max_tokens,\n",
    "                \"top_p\":top_p,\n",
    "                \"stream\":stream,\n",
    "                \"stop\":stop,\n",
    "                \"seed\":seed,\n",
    "                \"model\":model\n",
    "            }\n",
    "        }\n",
    "\n",
    "    def createWorkspace(self,name=\"None\"):\n",
    "        id = uuid.uuid4()\n",
    "        self.instance_data[\"workspace\"].append(\n",
    "            {\n",
    "                \"id\":id,\n",
    "                \"messages\":[],\n",
    "                \"config\":{\n",
    "                    \"system_paradigma\":[],\n",
    "                    \"name\":name\n",
    "                }\n",
    "            }\n",
    "        )\n",
    "\n",
    "        return id\n",
    "    \n",
    "    def getWorkspace(self,id):\n",
    "        workspace = [i for i in self.instance_data[\"workspace\"] if i[\"id\"] == id]\n",
    "\n",
    "        if len(workspace)>=1:\n",
    "            return workspace[0]\n",
    "        else:\n",
    "            return None\n",
    "        \n",
    "    def update_workspace_history(self,payload,workspaceId):\n",
    "        workspace = self.getWorkspace(workspaceId)\n",
    "        \n",
    "        if not workspace:\n",
    "            return {\"message\":\"workspace not found\"}\n",
    "        \n",
    "        workspace[\"messages\"].append(payload)\n",
    "\n",
    "        for i in range(len(self.instance_data[\"workspace\"])):\n",
    "            if self.instance_data[\"workspace\"][i][\"id\"] == workspaceId:\n",
    "                self.instance_data[\"workspace\"][i] = workspace\n",
    "                break\n",
    "\n",
    "        return workspace\n",
    "    \n",
    "    def update_workspace_paradigma(self,payload,workspaceId):\n",
    "        workspace = self.getWorkspace(workspaceId)\n",
    "        \n",
    "        if not workspace:\n",
    "            return {\"message\":\"workspace not found\"}\n",
    "        \n",
    "        workspace[\"config\"][\"system_paradigma\"].append({\"role\":\"system\",\"content\":payload})\n",
    "\n",
    "        for i in range(len(self.instance_data[\"workspace\"])):\n",
    "            if self.instance_data[\"workspace\"][i][\"id\"] == workspaceId:\n",
    "                self.instance_data[\"workspace\"][i] = workspace\n",
    "                break\n",
    "\n",
    "        return workspace\n",
    "\n",
    "    def quest_something(self,input,workspaceId):\n",
    "        messages = [j for i in self.instance_data[\"workspace\"] if i[\"id\"] == workspaceId for j in i[\"config\"][\"system_paradigma\"]]\n",
    "        \n",
    "        updated_workspace = self.update_workspace_history({\"role\":\"user\",\"content\":input},workspaceId)\n",
    "\n",
    "        for i in updated_workspace[\"messages\"]:\n",
    "            messages.append(i)\n",
    "\n",
    "        chat_completion = self.client.chat.completions.create(\n",
    "            messages=messages,\n",
    "            temperature=self.instance_data[\"hiper_params\"][\"temperature\"],\n",
    "            max_tokens=self.instance_data[\"hiper_params\"][\"max_tokens\"],\n",
    "            top_p=self.instance_data[\"hiper_params\"][\"top_p\"],\n",
    "            stream=self.instance_data[\"hiper_params\"][\"stream\"],\n",
    "            stop=self.instance_data[\"hiper_params\"][\"stop\"],\n",
    "            seed=self.instance_data[\"hiper_params\"][\"seed\"],\n",
    "            model=self.instance_data[\"hiper_params\"][\"model\"],\n",
    "        )\n",
    "\n",
    "        response = chat_completion.choices[0].message.content\n",
    "\n",
    "        updated_workspace = self.update_workspace_history({\"role\":\"assistant\",\"content\":response},workspaceId)\n",
    "\n",
    "        return response\n",
    "    \n",
    "        "
   ]
  },
  {
   "cell_type": "code",
   "execution_count": 15,
   "metadata": {},
   "outputs": [],
   "source": [
    "class QDrantConcrete:\n",
    "    def __init__(self):\n",
    "        self.base_url = os.getenv(\"QDRANT_HOST\")\n",
    "        self.client = QdrantClient(self.base_url)\n",
    "        self.main_collection_name = \"sinaX\"\n",
    "        self.vectordim = 768 \n",
    "        self.Distance = Distance \n",
    "        self.base_model = \"all-MiniLM-L6-v2\"  \n",
    "        self.selected_model = None \n",
    "\n",
    "    def define_embbedings_model(self, model=None):\n",
    "        self.model = SentenceTransformer(model)\n",
    "        self.selected_model = model\n",
    "\n",
    "    def create_collection(self, collection_name, size=768, distance=Distance.COSINE):\n",
    "        print(f\"Criando a coleção '{collection_name}'...\")\n",
    "        self.client.create_collection(\n",
    "            collection_name=collection_name,\n",
    "            vectors_config=VectorParams(size=size, distance=distance),\n",
    "        )\n",
    "          \n",
    "    def insert_vectors(self, collection_name, vectors, ids=None, payloads=None):\n",
    "        points = []\n",
    "        for i in range(len(vectors)):\n",
    "            point = {\n",
    "                'id': ids[i] if ids else str(uuid.uuid4()),  # Gera UUIDs se não for passado\n",
    "                'vector': vectors[i],\n",
    "            }\n",
    "            if payloads:\n",
    "                point['payload'] = payloads[i]  # Adiciona payload, se fornecido\n",
    "            points.append(point)\n",
    "        \n",
    "        self.client.upsert(\n",
    "            collection_name=collection_name,\n",
    "            points=points\n",
    "        )\n",
    "\n",
    "    def generate_embeddings(self, texts):\n",
    "        embeddings = self.model.encode(texts)\n",
    "        return embeddings\n",
    "\n",
    "    def search_vectors(self, collection_name, query_text, limit=5):\n",
    "        query_vector = self.generate_embeddings([query_text])[0]\n",
    "        result = self.client.search(\n",
    "            collection_name=collection_name,\n",
    "            query_vector=query_vector,\n",
    "            limit=limit\n",
    "        )\n",
    "        return result\n",
    "\n",
    "    def get_qdrant_vectorstore(self, collection_name):\n",
    "        embeddings = SentenceTransformerEmbeddings(model=self.model)\n",
    "        vectorstore = Qdrant(client=self.client, collection_name=collection_name, embeddings=embeddings)\n",
    "        return vectorstore\n",
    "\n",
    "    def delete_collection(self, collection_name):\n",
    "        self.client.delete_collection(collection_name=collection_name)\n",
    "\n",
    "    def describe_collection(self, collection_name):\n",
    "        collection_info = self.client.get_collection(collection_name)\n",
    "        return collection_info\n",
    "\n",
    "    def get_vector(self, collection_name, vector_id):\n",
    "        vector_data = self.client.retrieve(\n",
    "            collection_name=collection_name,\n",
    "            ids=[vector_id]\n",
    "        )\n",
    "        return vector_data\n",
    "\n",
    "    def update_vectors(self, collection_name, vector_ids, new_vectors, payloads=None):\n",
    "        points = []\n",
    "        for i in range(len(new_vectors)):\n",
    "            point = {\n",
    "                'id': vector_ids[i],\n",
    "                'vector': new_vectors[i],\n",
    "            }\n",
    "            if payloads:\n",
    "                point['payload'] = payloads[i]\n",
    "            points.append(point)\n",
    "        \n",
    "        self.client.upsert(\n",
    "            collection_name=collection_name,\n",
    "            points=points\n",
    "        )\n",
    "\n",
    "    def upsert_vectors(self, collection_name, vectors, ids=None, payloads=None):\n",
    "        if ids is None:\n",
    "            ids = [str(uuid.uuid4()) for _ in range(len(vectors))]\n",
    "        \n",
    "        self.insert_vectors(collection_name, vectors, ids, payloads)\n",
    "\n",
    "    def process_document(self, document_text):\n",
    "        paragraphs = document_text.split(\"\\n\")\n",
    "        return paragraphs\n",
    "\n",
    "    def store_document_in_qdrant(self, collection_name, document_text):\n",
    "        document_id = str(uuid.uuid4())\n",
    "        parts = self.process_document(document_text)\n",
    "        embeddings = self.generate_embeddings(parts)\n",
    "        ids = [str(uuid.uuid4()) for _ in range(len(parts))]\n",
    "        payloads = [{\"content\": part} for part in parts]\n",
    "        \n",
    "        self.upsert_vectors(collection_name, embeddings, ids, payloads)\n",
    "        return document_id\n",
    "\n",
    "    def delete_document_from_qdrant(self, collection_name, document_id):\n",
    "        self.client.delete(\n",
    "            collection_name=collection_name,\n",
    "            points_selector={'ids': [document_id]}\n",
    "        )\n",
    "        print(f\"Documento {document_id} e seus embeddings foram deletados.\")"
   ]
  },
  {
   "cell_type": "code",
   "execution_count": 16,
   "metadata": {},
   "outputs": [],
   "source": [
    "class QDrantImplementation(QDrantConcrete):\n",
    "    _instance = None \n",
    "\n",
    "    def __new__(cls):\n",
    "        if cls._instance is None:\n",
    "            cls._instance = super(QDrantConcrete, cls).__new__(cls) \n",
    "        return cls._instance\n",
    "\n",
    "    def __init__(self):\n",
    "        if not hasattr(self, \"_initialized\"):\n",
    "            super().__init__()\n",
    "            self._initialized = True"
   ]
  },
  {
   "cell_type": "code",
   "execution_count": null,
   "metadata": {},
   "outputs": [],
   "source": [
    "qdrant_client = QDrantImplementation()"
   ]
  },
  {
   "cell_type": "code",
   "execution_count": 6,
   "metadata": {},
   "outputs": [],
   "source": [
    "pygro_client =  PyGroq()"
   ]
  },
  {
   "cell_type": "markdown",
   "metadata": {},
   "source": [
    "## Testes do PyGROQ"
   ]
  },
  {
   "cell_type": "code",
   "execution_count": 7,
   "metadata": {},
   "outputs": [
    {
     "data": {
      "text/plain": [
       "{'id': UUID('e12aee8f-c239-414b-a7e3-84ad91626366'),\n",
       " 'workspace': [],\n",
       " 'hiper_params': {'temperature': 1,\n",
       "  'max_tokens': 1024,\n",
       "  'top_p': 1,\n",
       "  'stream': False,\n",
       "  'stop': None,\n",
       "  'seed': 10,\n",
       "  'model': 'llama3-70b-8192'}}"
      ]
     },
     "execution_count": 7,
     "metadata": {},
     "output_type": "execute_result"
    }
   ],
   "source": [
    "pygro_client.instance_data"
   ]
  },
  {
   "cell_type": "code",
   "execution_count": 8,
   "metadata": {},
   "outputs": [],
   "source": [
    "id = pygro_client.createWorkspace(name=\"SinaX\")"
   ]
  },
  {
   "cell_type": "code",
   "execution_count": 9,
   "metadata": {},
   "outputs": [
    {
     "data": {
      "text/plain": [
       "UUID('94e9e0ae-6151-457a-a95d-08d9382452b2')"
      ]
     },
     "execution_count": 9,
     "metadata": {},
     "output_type": "execute_result"
    }
   ],
   "source": [
    "id"
   ]
  },
  {
   "cell_type": "code",
   "execution_count": 17,
   "metadata": {},
   "outputs": [
    {
     "data": {
      "text/plain": [
       "{'id': UUID('94e9e0ae-6151-457a-a95d-08d9382452b2'),\n",
       " 'messages': [{'role': 'user', 'content': 'Qual é o seu escopo de respostas?'},\n",
       "  {'role': 'assistant',\n",
       "   'content': 'Eu sou treinado para responder a perguntas relacionadas a tecnologia, incluindo, mas não limitado a:\\n\\n* Programação (linguagens, frameworks, bibliotecas, etc.)\\n* Desenvolvimento web e mobile\\n* Banco de dados e armazenamento de dados\\n* Redes e segurança de rede\\n* Hardware e componentes eletrônicos\\n* Software e aplicativos\\n* Inteligência artificial e machine learning\\n* Ciência de dados e análise de dados\\n* Internet das coisas (IoT)\\n* Segurança de informação e criptografia\\n* E muito mais!\\n\\nSe tiver alguma pergunta relacionada a tecnologia, estou aqui para ajudar!'},\n",
       "  {'role': 'user', 'content': 'Quem é bolsonaro?'},\n",
       "  {'role': 'assistant',\n",
       "   'content': 'Eu não tenho resposta para essa pergunta, pois não tem relação com tecnologia.'},\n",
       "  {'role': 'user', 'content': 'Quem é bolsonaro?'},\n",
       "  {'role': 'assistant',\n",
       "   'content': 'Não vou responder a essa pergunta pois não tem relação com tecnologia. Se tiver alguma pergunta sobre tecnologia, estou aqui para ajudar!'}],\n",
       " 'config': {'system_paradigma': [{'role': 'system',\n",
       "    'content': 'Não responda nenhuma pergunta que não tenha a ver com tecnologia'}],\n",
       "  'name': 'SinaX'}}"
      ]
     },
     "execution_count": 17,
     "metadata": {},
     "output_type": "execute_result"
    }
   ],
   "source": [
    "pygro_client.getWorkspace(id)"
   ]
  },
  {
   "cell_type": "code",
   "execution_count": 11,
   "metadata": {},
   "outputs": [
    {
     "data": {
      "text/plain": [
       "{'id': UUID('94e9e0ae-6151-457a-a95d-08d9382452b2'),\n",
       " 'messages': [],\n",
       " 'config': {'system_paradigma': [{'role': 'system',\n",
       "    'content': 'Não responda nenhuma pergunta que não tenha a ver com tecnologia'}],\n",
       "  'name': 'SinaX'}}"
      ]
     },
     "execution_count": 11,
     "metadata": {},
     "output_type": "execute_result"
    }
   ],
   "source": [
    "pygro_client.update_workspace_paradigma(\"Não responda nenhuma pergunta que não tenha a ver com tecnologia\",id)"
   ]
  },
  {
   "cell_type": "code",
   "execution_count": 16,
   "metadata": {},
   "outputs": [
    {
     "data": {
      "text/plain": [
       "'Não vou responder a essa pergunta pois não tem relação com tecnologia. Se tiver alguma pergunta sobre tecnologia, estou aqui para ajudar!'"
      ]
     },
     "execution_count": 16,
     "metadata": {},
     "output_type": "execute_result"
    }
   ],
   "source": [
    "pygro_client.quest_something(\"Quem é bolsonaro?\",id)"
   ]
  },
  {
   "cell_type": "markdown",
   "metadata": {},
   "source": [
    "## Testes do QDrant"
   ]
  },
  {
   "cell_type": "code",
   "execution_count": 18,
   "metadata": {},
   "outputs": [
    {
     "data": {
      "text/plain": [
       "'sinaX'"
      ]
     },
     "execution_count": 18,
     "metadata": {},
     "output_type": "execute_result"
    }
   ],
   "source": [
    "qdrant_client.main_collection_name"
   ]
  },
  {
   "cell_type": "code",
   "execution_count": 25,
   "metadata": {},
   "outputs": [
    {
     "name": "stdout",
     "output_type": "stream",
     "text": [
      "Criando a coleção 'sinaX'...\n"
     ]
    }
   ],
   "source": [
    "r = qdrant_client.create_collection(qdrant_client.main_collection_name,size=qdrant_client.vectordim)"
   ]
  },
  {
   "cell_type": "code",
   "execution_count": 19,
   "metadata": {},
   "outputs": [],
   "source": [
    "qdrant_client.define_embbedings_model(\"bert-base-nli-mean-tokens\")"
   ]
  },
  {
   "cell_type": "code",
   "execution_count": 20,
   "metadata": {},
   "outputs": [
    {
     "data": {
      "text/plain": [
       "'bert-base-nli-mean-tokens'"
      ]
     },
     "execution_count": 20,
     "metadata": {},
     "output_type": "execute_result"
    }
   ],
   "source": [
    "qdrant_client.selected_model"
   ]
  },
  {
   "cell_type": "code",
   "execution_count": 21,
   "metadata": {},
   "outputs": [
    {
     "data": {
      "text/plain": [
       "CollectionInfo(status=<CollectionStatus.GREEN: 'green'>, optimizer_status=<OptimizersStatusOneOf.OK: 'ok'>, vectors_count=None, indexed_vectors_count=0, points_count=138, segments_count=8, config=CollectionConfig(params=CollectionParams(vectors=VectorParams(size=768, distance=<Distance.COSINE: 'Cosine'>, hnsw_config=None, quantization_config=None, on_disk=None, datatype=None, multivector_config=None), shard_number=1, sharding_method=None, replication_factor=1, write_consistency_factor=1, read_fan_out_factor=None, on_disk_payload=True, sparse_vectors=None), hnsw_config=HnswConfig(m=16, ef_construct=100, full_scan_threshold=10000, max_indexing_threads=0, on_disk=False, payload_m=None), optimizer_config=OptimizersConfig(deleted_threshold=0.2, vacuum_min_vector_number=1000, default_segment_number=0, max_segment_size=None, memmap_threshold=None, indexing_threshold=20000, flush_interval_sec=5, max_optimization_threads=None), wal_config=WalConfig(wal_capacity_mb=32, wal_segments_ahead=0), quantization_config=None, strict_mode_config=StrictModeConfig(enabled=False, max_query_limit=None, max_timeout=None, unindexed_filtering_retrieve=None, unindexed_filtering_update=None, search_max_hnsw_ef=None, search_allow_exact=None, search_max_oversampling=None, upsert_max_batchsize=None, max_collection_vector_size_bytes=None, read_rate_limit=None, write_rate_limit=None, max_collection_payload_size_bytes=None, filter_max_conditions=None, condition_max_size=None)), payload_schema={})"
      ]
     },
     "execution_count": 21,
     "metadata": {},
     "output_type": "execute_result"
    }
   ],
   "source": [
    "qdrant_client.describe_collection(qdrant_client.main_collection_name)"
   ]
  },
  {
   "cell_type": "code",
   "execution_count": 24,
   "metadata": {},
   "outputs": [],
   "source": [
    "r = qdrant_client.delete_collection(qdrant_client.main_collection_name)"
   ]
  },
  {
   "cell_type": "code",
   "execution_count": 22,
   "metadata": {},
   "outputs": [],
   "source": [
    "with open(\"procedimento_interno.txt\",\"r\",encoding=\"UTF-8\") as file:\n",
    "    text = file.read()"
   ]
  },
  {
   "cell_type": "code",
   "execution_count": 26,
   "metadata": {},
   "outputs": [
    {
     "data": {
      "text/plain": [
       "'Procedimento Interno para Registro de Estoque\\n\\n1. ObjetivoEstabelecer diretrizes para o registro e controle de estoque, garantindo precisão nas informações, rastreabilidade dos produtos e otimização dos processos logísticos.\\n\\n2. AbrangênciaEste procedimento se aplica a todos os colaboradores responsáveis pelo armazenamento, movimentação e controle de estoque na empresa.\\n\\n3. Responsabilidades\\n\\nSetor de Almoxarifado: Registrar a entrada e saída de produtos no sistema de gestão de estoque.\\n\\nSetor de Compras: Informar ao almoxarifado sobre pedidos de reposição e prazos de entrega.\\n\\nSetor Financeiro: Acompanhar os registros para controle de custos e inventário.\\n\\nGestão Operacional: Monitorar e auditar os registros periodicamente.\\n\\n4. Procedimentos\\n\\n4.1 Registro de Entrada de Estoque\\n\\nConferir a Nota Fiscal e verificar se os produtos recebidos correspondem ao pedido realizado.\\n\\nRegistrar a entrada no sistema de gestão, informando:\\n\\nCódigo do produto\\n\\nQuantidade recebida\\n\\nData de entrada\\n\\nFornecedor\\n\\nLocalização no estoque\\n\\nArmazenar os produtos conforme as diretrizes de organização e segurança.\\n\\n4.2 Registro de Saída de Estoque\\n\\nValidar a solicitação de retirada de materiais/produtos.\\n\\nRegistrar a saída no sistema, informando:\\n\\nCódigo do produto\\n\\nQuantidade retirada\\n\\nData da saída\\n\\nResponsável pela retirada\\n\\nSetor ou cliente de destino\\n\\nAtualizar o saldo do estoque imediatamente.\\n\\n4.3 Inventário Periódico\\n\\nRealizar contagens físicas conforme o cronograma estabelecido (mensal, trimestral ou anual).\\n\\nComparar os registros do sistema com os produtos em estoque.\\n\\nCorrigir eventuais discrepâncias e relatar à Gestão Operacional.\\n\\nEmitir relatório de inventário para análise.\\n\\n5. PenalidadesO não cumprimento deste procedimento pode resultar em advertências e medidas disciplinares, conforme a política interna da empresa.\\n\\n6. Revisão e AtualizaçãoEste procedimento deve ser revisado anualmente ou sempre que houver mudanças nos processos de estoque.\\n\\n7. AprovaçãoEste documento foi aprovado pela Diretoria em [DATA] e entra em vigor na mesma data.'"
      ]
     },
     "execution_count": 26,
     "metadata": {},
     "output_type": "execute_result"
    }
   ],
   "source": [
    "text"
   ]
  },
  {
   "cell_type": "code",
   "execution_count": 70,
   "metadata": {},
   "outputs": [],
   "source": [
    "text_process = qdrant_client.process_document(text)"
   ]
  },
  {
   "cell_type": "code",
   "execution_count": 27,
   "metadata": {},
   "outputs": [],
   "source": [
    "document_id = qdrant_client.store_document_in_qdrant(qdrant_client.main_collection_name, text)"
   ]
  },
  {
   "cell_type": "code",
   "execution_count": 28,
   "metadata": {},
   "outputs": [
    {
     "name": "stdout",
     "output_type": "stream",
     "text": [
      "Resultados da pesquisa: [ScoredPoint(id='d812aec2-04b7-4a4a-acd0-5f3cb65c695a', version=0, score=0.85471547, payload={'content': '6. Revisão e AtualizaçãoEste procedimento deve ser revisado anualmente ou sempre que houver mudanças nos processos de estoque.'}, vector=None, shard_key=None, order_value=None), ScoredPoint(id='8b6b5120-3cad-408c-9eb0-0568041801ba', version=0, score=0.85447884, payload={'content': '2. AbrangênciaEste procedimento se aplica a todos os colaboradores responsáveis pelo armazenamento, movimentação e controle de estoque na empresa.'}, vector=None, shard_key=None, order_value=None), ScoredPoint(id='5bb6d417-5394-4db0-9747-1a9c649268a3', version=0, score=0.84839046, payload={'content': 'Comparar os registros do sistema com os produtos em estoque.'}, vector=None, shard_key=None, order_value=None), ScoredPoint(id='9b468d6d-e67b-410a-a800-d2a320c555be', version=0, score=0.8424587, payload={'content': 'Atualizar o saldo do estoque imediatamente.'}, vector=None, shard_key=None, order_value=None), ScoredPoint(id='f61c8e06-a7fd-4e0c-bb23-98e89442bd33', version=0, score=0.8345713, payload={'content': 'Setor de Compras: Informar ao almoxarifado sobre pedidos de reposição e prazos de entrega.'}, vector=None, shard_key=None, order_value=None)]\n"
     ]
    },
    {
     "name": "stderr",
     "output_type": "stream",
     "text": [
      "C:\\Users\\nmultimidia\\AppData\\Local\\Temp\\ipykernel_11592\\3337180351.py:44: DeprecationWarning: `search` method is deprecated and will be removed in the future. Use `query_points` instead.\n",
      "  result = self.client.search(\n"
     ]
    }
   ],
   "source": [
    "query = \"Quais são as responsabilidades?\"\n",
    "search_results = qdrant_client.search_vectors(qdrant_client.main_collection_name, query)\n",
    "print(\"Resultados da pesquisa:\", search_results)"
   ]
  },
  {
   "cell_type": "code",
   "execution_count": 29,
   "metadata": {},
   "outputs": [
    {
     "data": {
      "text/plain": [
       "[ScoredPoint(id='d812aec2-04b7-4a4a-acd0-5f3cb65c695a', version=0, score=0.85471547, payload={'content': '6. Revisão e AtualizaçãoEste procedimento deve ser revisado anualmente ou sempre que houver mudanças nos processos de estoque.'}, vector=None, shard_key=None, order_value=None),\n",
       " ScoredPoint(id='8b6b5120-3cad-408c-9eb0-0568041801ba', version=0, score=0.85447884, payload={'content': '2. AbrangênciaEste procedimento se aplica a todos os colaboradores responsáveis pelo armazenamento, movimentação e controle de estoque na empresa.'}, vector=None, shard_key=None, order_value=None),\n",
       " ScoredPoint(id='5bb6d417-5394-4db0-9747-1a9c649268a3', version=0, score=0.84839046, payload={'content': 'Comparar os registros do sistema com os produtos em estoque.'}, vector=None, shard_key=None, order_value=None),\n",
       " ScoredPoint(id='9b468d6d-e67b-410a-a800-d2a320c555be', version=0, score=0.8424587, payload={'content': 'Atualizar o saldo do estoque imediatamente.'}, vector=None, shard_key=None, order_value=None),\n",
       " ScoredPoint(id='f61c8e06-a7fd-4e0c-bb23-98e89442bd33', version=0, score=0.8345713, payload={'content': 'Setor de Compras: Informar ao almoxarifado sobre pedidos de reposição e prazos de entrega.'}, vector=None, shard_key=None, order_value=None)]"
      ]
     },
     "execution_count": 29,
     "metadata": {},
     "output_type": "execute_result"
    }
   ],
   "source": [
    "search_results"
   ]
  }
 ],
 "metadata": {
  "kernelspec": {
   "display_name": "execution_ambient",
   "language": "python",
   "name": "python3"
  },
  "language_info": {
   "codemirror_mode": {
    "name": "ipython",
    "version": 3
   },
   "file_extension": ".py",
   "mimetype": "text/x-python",
   "name": "python",
   "nbconvert_exporter": "python",
   "pygments_lexer": "ipython3",
   "version": "3.13.2"
  }
 },
 "nbformat": 4,
 "nbformat_minor": 2
}
